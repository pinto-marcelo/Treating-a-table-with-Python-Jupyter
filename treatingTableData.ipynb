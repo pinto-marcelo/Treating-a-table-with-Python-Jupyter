{
 "cells": [
  {
   "cell_type": "code",
   "execution_count": null,
   "id": "f7c33065",
   "metadata": {},
   "outputs": [],
   "source": [
    "!pip3 install pyautogui\n",
    "!pip3 install pyperclip\n",
    "!pip3 install pandas\n",
    "\n",
    "import pyautogui\n",
    "import pyperclip\n",
    "import time\n",
    "import pandas as pd\n",
    "\n",
    "#file name and path:\n",
    "tabela = pd.read_csv(\"/home/marcelo-pinto/Downloads/telecom_users.csv\")\n",
    "\n",
    "\n",
    "#axis = eixo / 0 -> linha / 1 -> coluna\n",
    "tabela = tabela.drop(\"Unnamed: 0\", axis = 1)\n",
    "\n",
    "display(tabela)"
   ]
  },
  {
   "cell_type": "code",
   "execution_count": null,
   "id": "244d489a",
   "metadata": {},
   "outputs": [],
   "source": [
    "tabela[\"TotalGasto\"] = pd.to_numeric(tabela[\"TotalGasto\"], errors=\"coerce\")\n",
    "\n",
    "\n",
    "#axis = 1 -> Coluna / 0 -> Linha; all, any\n",
    "tabela = tabela.dropna(how=\"all\", axis=1)\n",
    "\n",
    "tabela = tabela.dropna(how=\"any\", axis=0)\n",
    "\n",
    "print(tabela.info())"
   ]
  },
  {
   "cell_type": "code",
   "execution_count": null,
   "id": "a7d11326",
   "metadata": {},
   "outputs": [],
   "source": [
    "print(tabela[\"Churn\"].value_counts())\n",
    "print(tabela[\"Churn\"].value_counts(normalize=True).map(\"{:.1%}\".format))"
   ]
  },
  {
   "cell_type": "code",
   "execution_count": null,
   "id": "9f0a1e83",
   "metadata": {},
   "outputs": [],
   "source": [
    "import plotly.express as px #criação de gráficos\n",
    "\n",
    "\n",
    "#criando um gráfico para cada coluna da base de dados (tabela)\n",
    "\n",
    "for coluna in tabela.columns:\n",
    "#  print(coluna)\n",
    "#ou:\n",
    "#for linha in tabela.rows:\n",
    "    print(coluna)\n",
    "    grafico = px.histogram(tabela, x=coluna, color=\"Churn\")\n",
    "    \n",
    "    \n",
    "#coluna = \"Aposentado\"     \n",
    "\n",
    "#grafico = px.histogram(tabela, x=\"Aposentado\", color=\"Churn\")\n",
    "\n",
    "#tipos de graficos: line, pizza, pie, his..\n",
    "#grafico = px.histogram(tabela, x=\"TotalGasto\")\n",
    "\n",
    "    grafico.show()\n"
   ]
  },
  {
   "cell_type": "code",
   "execution_count": null,
   "id": "44da71ce",
   "metadata": {},
   "outputs": [],
   "source": [
    "!pip install plotly"
   ]
  },
  {
   "cell_type": "code",
   "execution_count": null,
   "id": "c4b503c8",
   "metadata": {},
   "outputs": [],
   "source": []
  }
 ],
 "metadata": {
  "kernelspec": {
   "display_name": "Python 3 (ipykernel)",
   "language": "python",
   "name": "python3"
  },
  "language_info": {
   "codemirror_mode": {
    "name": "ipython",
    "version": 3
   },
   "file_extension": ".py",
   "mimetype": "text/x-python",
   "name": "python",
   "nbconvert_exporter": "python",
   "pygments_lexer": "ipython3",
   "version": "3.8.10"
  }
 },
 "nbformat": 4,
 "nbformat_minor": 5
}
