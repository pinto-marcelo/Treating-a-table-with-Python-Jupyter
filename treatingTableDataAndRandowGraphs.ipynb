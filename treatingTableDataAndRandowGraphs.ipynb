{
 "cells": [
  {
   "cell_type": "code",
   "execution_count": null,
   "id": "f7c33065",
   "metadata": {},
   "outputs": [],
   "source": [
    "!pip3 install pyautogui\n",
    "!pip3 install pyperclip\n",
    "!pip3 install panda\n",
    "!pip3 install matplotlib\n",
    "\n",
    "import pyautogui\n",
    "import pyperclip\n",
    "import time\n",
    "import pandas as pd\n",
    "import matplotlib.pyplot as plt \n",
    "import numpy as np\n",
    "\n",
    "#file name and path:\n",
    "tabela = pd.read_csv(\"/home/marcelo-pinto/projects/python/tratamento tabela python jupyter/telecom_users.csv\")\n",
    "\n",
    "\n",
    "#axis = eixo / 0 -> linha / 1 -> coluna\n",
    "tabela = tabela.drop(\"Unnamed: 0\", axis = 1)\n",
    "\n",
    "display(tabela)"
   ]
  },
  {
   "cell_type": "code",
   "execution_count": null,
   "id": "244d489a",
   "metadata": {},
   "outputs": [],
   "source": [
    "tabela[\"TotalGasto\"] = pd.to_numeric(tabela[\"TotalGasto\"], errors=\"coerce\")\n",
    "\n",
    "\n",
    "#axis = 1 -> Coluna / 0 -> Linha; all, any\n",
    "tabela = tabela.dropna(how=\"all\", axis=1)\n",
    "\n",
    "tabela = tabela.dropna(how=\"any\", axis=0)\n",
    "\n",
    "print(tabela.info())"
   ]
  },
  {
   "cell_type": "code",
   "execution_count": null,
   "id": "a7d11326",
   "metadata": {},
   "outputs": [],
   "source": [
    "print(tabela[\"Churn\"].value_counts())\n",
    "print(tabela[\"Churn\"].value_counts(normalize=True).map(\"{:.1%}\".format))"
   ]
  },
  {
   "cell_type": "code",
   "execution_count": null,
   "id": "9f0a1e83",
   "metadata": {},
   "outputs": [],
   "source": [
    "import plotly.express as px #criação de gráficos\n",
    "\n",
    "\n",
    "#criando um gráfico para cada coluna da base de dados (tabela)\n",
    "\n",
    "for coluna in tabela.columns:\n",
    "#  print(coluna)\n",
    "#ou:\n",
    "#for linha in tabela.rows:\n",
    "    print(coluna)\n",
    "    grafico = px.histogram(tabela, x=coluna, color=\"Churn\")\n",
    "    \n",
    "    \n",
    "#coluna = \"Aposentado\"     \n",
    "\n",
    "#grafico = px.histogram(tabela, x=\"Aposentado\", color=\"Churn\")\n",
    "\n",
    "#tipos de graficos: line, pizza, pie, his..\n",
    "#grafico = px.histogram(tabela, x=\"TotalGasto\")\n",
    "\n",
    "    grafico.show()\n"
   ]
  },
  {
   "cell_type": "code",
   "execution_count": null,
   "id": "44da71ce",
   "metadata": {},
   "outputs": [],
   "source": [
    "!pip install plotly"
   ]
  },
  {
   "cell_type": "code",
   "execution_count": null,
   "id": "c4b503c8",
   "metadata": {},
   "outputs": [],
   "source": [
    "def f(x): return x**3 + 1  \n",
    "  \n",
    "x = np.linspace(-2,2)  \n",
    "plt.plot(x, f(x))  \n",
    "[<matplotlib.lines.Line2D object at 0x7f4f6d153510>]  \n",
    " \n",
    " plt.grid()    \n",
    "    \n",
    " plt.show()"
   ]
  },
  {
   "cell_type": "code",
   "execution_count": null,
   "id": "367674a4",
   "metadata": {},
   "outputs": [],
   "source": [
    "x = np.arange(0, 10, 0.1);\n",
    "y = np.sin(x)\n",
    "plt.plot(x, y)\n",
    "\n",
    "\n",
    "\n"
   ]
  },
  {
   "cell_type": "code",
   "execution_count": null,
   "id": "8bb14c78",
   "metadata": {},
   "outputs": [],
   "source": [
    "def f(x): return x**2 - 1\n",
    "x = np.arange(0, 10, 1);\n",
    "x = np.linspace(-2,2)\n",
    "plt.grid(True)\n",
    "plt.plot(x, f(x))\n",
    "\n",
    "\n"
   ]
  },
  {
   "cell_type": "code",
   "execution_count": null,
   "id": "545b09e5",
   "metadata": {},
   "outputs": [],
   "source": [
    "x=np.arange(1,7)\n",
    "y=[0.2,0.1,0.1,0.2,0.1,0.3]\n",
    "cdf=np.cumsum(y)\n",
    "\n",
    "plt.plot(x,y, marker=\"o\",label=\"PMF\")\n",
    "plt.plot(x,cdf,marker=\"o\",label=\"CDF\")\n",
    "plt.xlim(0,7)\n",
    "plt.ylim(0,1.5)\n",
    "plt.xlabel(\"X\")\n",
    "plt.ylabel(\"Probability Values\")\n",
    "plt.title(\"CDF for discrete distribution\")\n",
    "plt.legend()\n",
    "plt.show()"
   ]
  },
  {
   "cell_type": "code",
   "execution_count": null,
   "id": "41b41d2b",
   "metadata": {},
   "outputs": [],
   "source": [
    "import math\n",
    "print('-' * 30, ' Coeficientes ', '-' * 30)\n",
    "valorA = int(input('Insira o coeficiente de A: '))\n",
    "valorB = int(input('Insira o coeficiente de B: '))\n",
    "valorC = int(input('Insira o coeficiente de C: '))\n",
    "\n",
    "print('-' * 30, ' Raízes ', '-' * 30)\n",
    "delta = math.pow(valorB, 2) - (4 * valorA * valorC)\n",
    "x1 = (-valorB + math.sqrt(delta)) / 2 * valorA\n",
    "x2 = (-valorB - math.sqrt(delta)) / 2 * valorA\n",
    "print('Raízes: {:.0f} e {:.0f}'.format(x1, x2))\n",
    "\n",
    "print('-' * 30, ' Coordenada das vértices ', '-' * 30)\n",
    "Xv = -valorB / (2 * valorA)\n",
    "Yv = valorA * math.pow(Xv, 2) + valorB * Xv + valorC\n",
    "print('V({:.0f}; {:.0f})'.format(Xv, Yv))"
   ]
  },
  {
   "cell_type": "code",
   "execution_count": null,
   "id": "b627d947",
   "metadata": {},
   "outputs": [],
   "source": []
  }
 ],
 "metadata": {
  "kernelspec": {
   "display_name": "Python 3 (ipykernel)",
   "language": "python",
   "name": "python3"
  },
  "language_info": {
   "codemirror_mode": {
    "name": "ipython",
    "version": 3
   },
   "file_extension": ".py",
   "mimetype": "text/x-python",
   "name": "python",
   "nbconvert_exporter": "python",
   "pygments_lexer": "ipython3",
   "version": "3.8.10"
  }
 },
 "nbformat": 4,
 "nbformat_minor": 5
}
